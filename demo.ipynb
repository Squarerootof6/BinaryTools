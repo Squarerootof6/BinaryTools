{
 "cells": [
  {
   "cell_type": "code",
   "execution_count": 15,
   "metadata": {},
   "outputs": [],
   "source": [
    "import pandas as pd\n",
    "df = pd.read_csv('./atomic_lines.csv')\n",
    "df.to_csv('./atomic_lines.csv',index=None,sep='\\t')"
   ]
  },
  {
   "cell_type": "code",
   "execution_count": 2,
   "metadata": {},
   "outputs": [
    {
     "data": {
      "text/plain": [
       "Index(['element', 'wave_A', 'wave_nm', 'loggf', 'lower_state_eV',\n",
       "       'lower_state_cm1', 'lower_j', 'upper_state_eV', 'upper_state_cm1',\n",
       "       'upper_j', 'upper_g', 'lande_lower', 'lande_upper',\n",
       "       'spectrum_transition_type', 'turbospectrum_rad', 'rad', 'stark',\n",
       "       'waals', 'waals_single_gamma_format', 'turbospectrum_fdamp',\n",
       "       'spectrum_fudge_factor', 'theoretical_depth', 'theoretical_ew',\n",
       "       'lower_orbital_type', 'upper_orbital_type', 'molecule',\n",
       "       'spectrum_synthe_isotope', 'ion', 'spectrum_moog_species',\n",
       "       'turbospectrum_species', 'width_species', 'reference_code',\n",
       "       'spectrum_support', 'turbospectrum_support', 'moog_support',\n",
       "       'width_support', 'synthe_support', 'sme_support'],\n",
       "      dtype='object')"
      ]
     },
     "execution_count": 2,
     "metadata": {},
     "output_type": "execute_result"
    }
   ],
   "source": [
    "\n",
    "df.columns"
   ]
  },
  {
   "cell_type": "code",
   "execution_count": 5,
   "metadata": {},
   "outputs": [],
   "source": [
    "df[['element', 'wave_A','loggf', 'lower_state_eV','lower_j', 'upper_state_eV', 'upper_j', 'upper_g','stark','theoretical_depth','theoretical_ew','upper_orbital_type', 'molecule','ion','reference_code']].to_csv('./tmp.csv',index=None)"
   ]
  },
  {
   "cell_type": "code",
   "execution_count": 10,
   "metadata": {},
   "outputs": [
    {
     "data": {
      "text/plain": [
       "array([1, 2, 3, 4, 5, 6])"
      ]
     },
     "execution_count": 10,
     "metadata": {},
     "output_type": "execute_result"
    }
   ],
   "source": [
    "import numpy as np\n",
    "np.unique(df['ion'])"
   ]
  },
  {
   "cell_type": "code",
   "execution_count": 12,
   "metadata": {},
   "outputs": [
    {
     "data": {
      "text/plain": [
       "0         0.03\n",
       "1         0.00\n",
       "2         0.00\n",
       "3         0.00\n",
       "4         0.00\n",
       "          ... \n",
       "731372    0.00\n",
       "731373    0.00\n",
       "731374    0.00\n",
       "731375    0.00\n",
       "731376    0.00\n",
       "Name: theoretical_depth, Length: 731377, dtype: float64"
      ]
     },
     "execution_count": 12,
     "metadata": {},
     "output_type": "execute_result"
    }
   ],
   "source": [
    "df['theoretical_depth']"
   ]
  },
  {
   "cell_type": "code",
   "execution_count": null,
   "metadata": {},
   "outputs": [],
   "source": []
  }
 ],
 "metadata": {
  "kernelspec": {
   "display_name": "base",
   "language": "python",
   "name": "python3"
  },
  "language_info": {
   "codemirror_mode": {
    "name": "ipython",
    "version": 3
   },
   "file_extension": ".py",
   "mimetype": "text/x-python",
   "name": "python",
   "nbconvert_exporter": "python",
   "pygments_lexer": "ipython3",
   "version": "3.11.5"
  }
 },
 "nbformat": 4,
 "nbformat_minor": 2
}
